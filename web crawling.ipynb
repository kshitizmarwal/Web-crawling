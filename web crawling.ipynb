{
 "cells": [
  {
   "cell_type": "markdown",
   "metadata": {},
   "source": [
    "# web crawler using scrapy\n"
   ]
  },
  {
   "cell_type": "code",
   "execution_count": null,
   "metadata": {},
   "outputs": [],
   "source": []
  },
  {
   "cell_type": "code",
   "execution_count": 4,
   "metadata": {},
   "outputs": [
    {
     "name": "stdout",
     "output_type": "stream",
     "text": [
      "Requirement already satisfied: scrapy in c:\\users\\kshitiz\\anaconda3\\lib\\site-packages (2.4.1)\n",
      "Requirement already satisfied: w3lib>=1.17.0 in c:\\users\\kshitiz\\anaconda3\\lib\\site-packages (from scrapy) (1.22.0)\n",
      "Requirement already satisfied: PyDispatcher>=2.0.5 in c:\\users\\kshitiz\\anaconda3\\lib\\site-packages (from scrapy) (2.0.5)\n",
      "Requirement already satisfied: cryptography>=2.0 in c:\\users\\kshitiz\\anaconda3\\lib\\site-packages (from scrapy) (2.9.2)\n",
      "Requirement already satisfied: itemadapter>=0.1.0 in c:\\users\\kshitiz\\anaconda3\\lib\\site-packages (from scrapy) (0.2.0)\n",
      "Requirement already satisfied: parsel>=1.5.0 in c:\\users\\kshitiz\\anaconda3\\lib\\site-packages (from scrapy) (1.6.0)\n",
      "Requirement already satisfied: itemloaders>=1.0.1 in c:\\users\\kshitiz\\anaconda3\\lib\\site-packages (from scrapy) (1.0.4)\n",
      "Requirement already satisfied: pyOpenSSL>=16.2.0 in c:\\users\\kshitiz\\anaconda3\\lib\\site-packages (from scrapy) (19.1.0)\n",
      "Requirement already satisfied: cssselect>=0.9.1 in c:\\users\\kshitiz\\anaconda3\\lib\\site-packages (from scrapy) (1.1.0)\n",
      "Requirement already satisfied: zope.interface>=4.1.3 in c:\\users\\kshitiz\\anaconda3\\lib\\site-packages (from scrapy) (4.7.1)\n",
      "Requirement already satisfied: Twisted>=17.9.0 in c:\\users\\kshitiz\\anaconda3\\lib\\site-packages (from scrapy) (21.2.0)\n",
      "Requirement already satisfied: lxml>=3.5.0; platform_python_implementation == \"CPython\" in c:\\users\\kshitiz\\anaconda3\\lib\\site-packages (from scrapy) (4.5.2)\n",
      "Requirement already satisfied: service-identity>=16.0.0 in c:\\users\\kshitiz\\anaconda3\\lib\\site-packages (from scrapy) (18.1.0)\n",
      "Requirement already satisfied: queuelib>=1.4.2 in c:\\users\\kshitiz\\anaconda3\\lib\\site-packages (from scrapy) (1.5.0)\n",
      "Requirement already satisfied: protego>=0.1.15 in c:\\users\\kshitiz\\anaconda3\\lib\\site-packages (from scrapy) (0.1.16)\n",
      "Requirement already satisfied: six>=1.4.1 in c:\\users\\kshitiz\\appdata\\roaming\\python\\python38\\site-packages (from w3lib>=1.17.0->scrapy) (1.15.0)\n",
      "Requirement already satisfied: cffi!=1.11.3,>=1.8 in c:\\users\\kshitiz\\anaconda3\\lib\\site-packages (from cryptography>=2.0->scrapy) (1.14.0)\n",
      "Requirement already satisfied: jmespath>=0.9.5 in c:\\users\\kshitiz\\anaconda3\\lib\\site-packages (from itemloaders>=1.0.1->scrapy) (0.10.0)\n",
      "Requirement already satisfied: setuptools in c:\\users\\kshitiz\\anaconda3\\lib\\site-packages (from zope.interface>=4.1.3->scrapy) (49.2.0.post20200714)\n",
      "Requirement already satisfied: attrs>=19.2.0 in c:\\users\\kshitiz\\anaconda3\\lib\\site-packages (from Twisted>=17.9.0->scrapy) (19.3.0)\n",
      "Requirement already satisfied: hyperlink>=17.1.1 in c:\\users\\kshitiz\\anaconda3\\lib\\site-packages (from Twisted>=17.9.0->scrapy) (21.0.0)\n",
      "Requirement already satisfied: constantly>=15.1 in c:\\users\\kshitiz\\anaconda3\\lib\\site-packages (from Twisted>=17.9.0->scrapy) (15.1.0)\n",
      "Requirement already satisfied: Automat>=0.8.0 in c:\\users\\kshitiz\\anaconda3\\lib\\site-packages (from Twisted>=17.9.0->scrapy) (20.2.0)\n",
      "Requirement already satisfied: twisted-iocpsupport~=1.0.0; platform_system == \"Windows\" in c:\\users\\kshitiz\\anaconda3\\lib\\site-packages (from Twisted>=17.9.0->scrapy) (1.0.1)\n",
      "Requirement already satisfied: incremental>=16.10.1 in c:\\users\\kshitiz\\anaconda3\\lib\\site-packages (from Twisted>=17.9.0->scrapy) (21.3.0)\n",
      "Requirement already satisfied: pyasn1 in c:\\users\\kshitiz\\anaconda3\\lib\\site-packages (from service-identity>=16.0.0->scrapy) (0.4.8)\n",
      "Requirement already satisfied: pyasn1-modules in c:\\users\\kshitiz\\anaconda3\\lib\\site-packages (from service-identity>=16.0.0->scrapy) (0.2.8)\n",
      "Requirement already satisfied: pycparser in c:\\users\\kshitiz\\anaconda3\\lib\\site-packages (from cffi!=1.11.3,>=1.8->cryptography>=2.0->scrapy) (2.20)\n",
      "Requirement already satisfied: idna>=2.5 in c:\\users\\kshitiz\\anaconda3\\lib\\site-packages (from hyperlink>=17.1.1->Twisted>=17.9.0->scrapy) (2.10)\n"
     ]
    }
   ],
   "source": [
    "!pip install scrapy"
   ]
  },
  {
   "cell_type": "code",
   "execution_count": 2,
   "metadata": {},
   "outputs": [
    {
     "name": "stdout",
     "output_type": "stream",
     "text": [
      "New Scrapy project 'quotetutorial', using template directory 'c:\\users\\kshitiz\\anaconda3\\lib\\site-packages\\scrapy\\templates\\project', created in:\n",
      "    C:\\Users\\KSHITIZ\\quotetutorial\n",
      "\n",
      "You can start your first spider with:\n",
      "    cd quotetutorial\n",
      "    scrapy genspider example example.com\n"
     ]
    }
   ],
   "source": [
    "!scrapy startproject quotetutorial"
   ]
  },
  {
   "cell_type": "markdown",
   "metadata": {},
   "source": [
    "import scrapy\n",
    "from ..items import QuotetutorialItem\n",
    "\n",
    "class QuotesSpider(scrapy.Spider):\n",
    "    name = 'quotes'\n",
    "\n",
    "    start_urls = [\n",
    "        'https://quotes.toscrape.com/'\n",
    "    ]\n",
    "\n",
    "    def parse(self, response):\n",
    "        items = QuotetutorialItem()\n",
    "        all_div_quotes = response.css('div.quote')\n",
    "\n",
    "        for quotes in all_div_quotes:\n",
    "            title = quotes.css('span.text::text').getall()\n",
    "            author = quotes.css('small.author::text').getall()\n",
    "            tags = quotes.css('a.tag::text').getall()\n",
    "\n",
    "            items['title']=title\n",
    "            items['author']=author\n",
    "            items['tags']=tags\n",
    "            yield items"
   ]
  },
  {
   "cell_type": "code",
   "execution_count": 2,
   "metadata": {},
   "outputs": [
    {
     "name": "stdout",
     "output_type": "stream",
     "text": [
      "New Scrapy project 'bookstore', using template directory 'c:\\users\\kshitiz\\anaconda3\\lib\\site-packages\\scrapy\\templates\\project', created in:\n",
      "    C:\\Users\\KSHITIZ\\bookstore\n",
      "\n",
      "You can start your first spider with:\n",
      "    cd bookstore\n",
      "    scrapy genspider example example.com\n"
     ]
    }
   ],
   "source": [
    "!scrapy startproject bookstore"
   ]
  },
  {
   "cell_type": "raw",
   "metadata": {},
   "source": [
    "import scrapy\n",
    "class BookSpider(scrapy.Spider):\n",
    "    name = \"books_spider\"\n",
    "    def start_requests(self):\n",
    "        urls = [\n",
    "            \"http://books.toscrape.com/catalogue/page-1.html\"\n",
    "        ]\n",
    "        for url in urls:\n",
    "            yield scrapy.Request(url=url, callback=self.parse)\n",
    "\n",
    "    def parse(self, response):\n",
    "\n",
    "        for q in response.css(\"article.product_pod\"):\n",
    "        \tlink = q.css(\"div.image_container a img::attr(src)\").get()\n",
    "        \ttitle = q.css(\"h3 a::attr(title)\").get()\n",
    "            price = q.css(\"div.product_price p.price_color::text\").get()\n",
    "\n",
    "        \tyield {\n",
    "        \t'image_url' : link,\n",
    "            'book_title' : title,\n",
    "            'product_price': price\n",
    "        \t}\n",
    "        next_page = response.css('ul.pager li.next a::attr(href)').get()\n",
    "        if next_page is not None:\n",
    "            \n",
    "            next_page = response.urljoin(next_page)\n",
    "            yield scrapy.Request(next_page,callback = self.parse)\n",
    "                         "
   ]
  },
  {
   "cell_type": "code",
   "execution_count": 1,
   "metadata": {},
   "outputs": [
    {
     "name": "stdout",
     "output_type": "stream",
     "text": [
      "New Scrapy project 'amazontutorial', using template directory 'c:\\users\\kshitiz\\anaconda3\\lib\\site-packages\\scrapy\\templates\\project', created in:\n",
      "    C:\\Users\\KSHITIZ\\amazontutorial\n",
      "\n",
      "You can start your first spider with:\n",
      "    cd amazontutorial\n",
      "    scrapy genspider example example.com\n"
     ]
    }
   ],
   "source": [
    "!scrapy startproject amazontutorial"
   ]
  },
  {
   "cell_type": "code",
   "execution_count": null,
   "metadata": {},
   "outputs": [],
   "source": [
    "import scrapy\n",
    "from ..items import AmazontutorialItem\n",
    "\n",
    "class AmazonTutorialSpider(scrapy.Spider):\n",
    "    name = 'amazon'\n",
    "    page_number=2\n",
    "    start_urls = [\n",
    "        'https://www.amazon.in/Books-Last-30-days/s?rh=n%3A976389031%2Cp_n_publication_date%3A2684819031'\n",
    "    ]\n",
    "\n",
    "    def parse(self, response):\n",
    "        items = AmazontutorialItem()\n",
    "\n",
    "        product_name = response.css('.a-color-base.a-text-normal').css('::text').getall()\n",
    "        product_author = response.css('.a-color-secondary .a-size-base.a-link-normal').css('::text').getall()\n",
    "        product_price = response.css('.a-spacing-top-small .a-price-whole').css('::text').getall()\n",
    "        product_imagelink = response.css('.s-image::attr(src)').getall()\n",
    "\n",
    "        items['product_name'] = product_name\n",
    "        items['product_author'] = product_author\n",
    "        items['product_price'] = product_price\n",
    "        items['product_imagelink'] = product_imagelink\n",
    "\n",
    "        yield items\n",
    "        next_page = 'https://www.amazon.in/Books-Last-30-days/s?i=stripbooks&rh=n%3A976389031%2Cp_n_publication_date%3A2684819031&page='+str(AmazonTutorialSpider.page_number)+'&qid=1616217045&ref=sr_pg_1'\n",
    "        if AmazonTutorialSpider.page_number<=5:\n",
    "            AmazonTutorialSpider.page_number+=1\n",
    "            yield response.follow(next_page,callback=self.parse)\n"
   ]
  }
 ],
 "metadata": {
  "kernelspec": {
   "display_name": "Python 3 (ipykernel)",
   "language": "python",
   "name": "python3"
  },
  "language_info": {
   "codemirror_mode": {
    "name": "ipython",
    "version": 3
   },
   "file_extension": ".py",
   "mimetype": "text/x-python",
   "name": "python",
   "nbconvert_exporter": "python",
   "pygments_lexer": "ipython3",
   "version": "3.11.7"
  }
 },
 "nbformat": 4,
 "nbformat_minor": 4
}
